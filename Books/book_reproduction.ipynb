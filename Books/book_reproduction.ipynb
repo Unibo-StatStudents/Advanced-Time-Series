{
 "cells": [
  {
   "attachments": {},
   "cell_type": "markdown",
   "metadata": {},
   "source": [
    "# Mastodontic file\n",
    "Let's try to implement as much as I can of the second chapter of the book \"Time Series Analysis\" by Durbin and Koopman"
   ]
  },
  {
   "attachments": {},
   "cell_type": "markdown",
   "metadata": {},
   "source": [
    "A time series is a set of observations $y_1, . . . , y_n$ ordered in time. The basic model for representing a time series is the additive model"
   ]
  },
  {
   "cell_type": "code",
   "execution_count": null,
   "metadata": {},
   "outputs": [],
   "source": [
    "import numpy as np"
   ]
  },
  {
   "cell_type": "code",
   "execution_count": 5,
   "metadata": {},
   "outputs": [],
   "source": [
    "def generate_additive_time_series(n, trend_func, seasonal_func, noise_std):\n",
    "    \n",
    "    t = np.arange(1, n + 1)  # Time index\n",
    "\n",
    "    trend = trend_func(t)  # Trend component usualy called mu\n",
    "    seasonal = seasonal_func(t)  # Seasonal component usually called gamma\n",
    "    noise = np.random.normal(0, noise_std, n) #Noise component usually called epsilon\n",
    "\n",
    "    time_series = trend + seasonal + noise\n",
    "\n",
    "    return time_series\n"
   ]
  },
  {
   "attachments": {},
   "cell_type": "markdown",
   "metadata": {},
   "source": [
    "## Local level model"
   ]
  },
  {
   "cell_type": "code",
   "execution_count": 6,
   "metadata": {},
   "outputs": [],
   "source": [
    "def local_level_model (n, sigma_eta, sigma_epsilon):\n",
    "\n",
    "    alpha = np.zeros(n)\n",
    "    epsilon = np.random.normal(0, sigma_epsilon, n)\n",
    "    eta = np.random.normal (0, sigma_eta, n)\n",
    "\n",
    "    for t in range (n-1):\n",
    "        alpha[t+1] = alpha[t] + eta[t]\n",
    "        y[t+1] = alpha[t+1] + epsilon[t] \n",
    "\n"
   ]
  },
  {
   "attachments": {},
   "cell_type": "markdown",
   "metadata": {},
   "source": [
    "## Kalman filter"
   ]
  },
  {
   "cell_type": "code",
   "execution_count": null,
   "metadata": {},
   "outputs": [],
   "source": [
    "def kalman_filter(y, sigma_eta, sigma_epsilon, phi):\n",
    "\n",
    "    n = len(y)  # Number of observations\n",
    "\n",
    "    # Initialize arrays\n",
    "    mu_pred = np.zeros(n)\n",
    "    P = np.zeros(n)\n",
    "    v = np.zeros(n)\n",
    "    F = np.zeros(n)\n",
    "    K = np.zeros(n)\n",
    "    dllk = np.zeros(n)\n",
    "\n",
    "    # Initial values\n",
    "    mu_pred[0] = y[0]\n",
    "    P[0] = sigma_eta**2 / (1 - phi**2)\n",
    "    llk = 0\n",
    "\n",
    "    for t in range (n-1):\n",
    "        v[t] = y[t] - mu_pred[t]\n",
    "        F[t] = P[t] + sigma_e^2\n",
    "        K[t] = (phi * P[t])/F[t]\n",
    "        P[t+1] = phi**2 * P[t] + sigma_eta^2 - K[t]*F[t]*K[t]\n",
    "        mu_pred[t+1] = phi * mu_pred[t] + K[t]*v[t]\n",
    "        dllk[t] = - 0.5 * log(F[t] + (v[t]^2/F[t]))\n",
    "        llk  = llk + dllk[t]\n",
    "\n"
   ]
  }
 ],
 "metadata": {
  "kernelspec": {
   "display_name": "Python 3",
   "language": "python",
   "name": "python3"
  },
  "language_info": {
   "codemirror_mode": {
    "name": "ipython",
    "version": 3
   },
   "file_extension": ".py",
   "mimetype": "text/x-python",
   "name": "python",
   "nbconvert_exporter": "python",
   "pygments_lexer": "ipython3",
   "version": "3.11.2"
  },
  "orig_nbformat": 4
 },
 "nbformat": 4,
 "nbformat_minor": 2
}
