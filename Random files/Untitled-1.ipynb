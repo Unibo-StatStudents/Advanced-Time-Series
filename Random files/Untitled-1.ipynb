{
 "cells": [
  {
   "attachments": {},
   "cell_type": "markdown",
   "metadata": {},
   "source": [
    "Define the data generating function of the process"
   ]
  },
  {
   "cell_type": "code",
   "execution_count": 1,
   "metadata": {},
   "outputs": [],
   "source": [
    "import numpy as np"
   ]
  },
  {
   "cell_type": "code",
   "execution_count": null,
   "metadata": {},
   "outputs": [],
   "source": [
    "def dgp(n, phi, sigma_e, sigma_eta):\n",
    "    eta = sigma_eta*np.random.normal(0, sigma_eta, n)\n",
    "    e = sigma_e*np.random.normal(0, sigma_e, n)\n",
    "    mu = np.random.zeros(n)\n",
    "    y = np.random.zeros(n)\n",
    "\n",
    "    for t in range(n-1):\n",
    "        mu[t+1] = phi * mu[t] +eta[t]\n",
    "        y[t+1] = mu[t+1] + e[t+1]\n",
    "\n",
    "    return #out the time series of y and mu\n",
    "    "
   ]
  },
  {
   "cell_type": "code",
   "execution_count": null,
   "metadata": {},
   "outputs": [],
   "source": [
    "def kf(y, phi, sigma_e, sigma_eta):\n",
    "    m10 = 0\n",
    "    p10 = 1\n",
    "    #n = n.row(y)\n",
    "\n",
    "    mu_pred = np.array(data = #NA, dim = c(n))\n",
    "    P = 0\n",
    "    v = np.array()\n",
    "    K = 0\n",
    "    F = 0\n",
    "    dllk = array()\n",
    "    llk = 0\n",
    "                      "
   ]
  }
 ],
 "metadata": {
  "kernelspec": {
   "display_name": "Python 3",
   "language": "python",
   "name": "python3"
  },
  "language_info": {
   "codemirror_mode": {
    "name": "ipython",
    "version": 3
   },
   "file_extension": ".py",
   "mimetype": "text/x-python",
   "name": "python",
   "nbconvert_exporter": "python",
   "pygments_lexer": "ipython3",
   "version": "3.11.2"
  },
  "orig_nbformat": 4
 },
 "nbformat": 4,
 "nbformat_minor": 2
}
